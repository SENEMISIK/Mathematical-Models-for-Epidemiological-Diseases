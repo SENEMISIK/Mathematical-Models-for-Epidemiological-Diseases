{
 "cells": [
  {
   "cell_type": "code",
   "execution_count": 1,
   "metadata": {},
   "outputs": [
    {
     "output_type": "error",
     "ename": "KeyboardInterrupt",
     "evalue": "",
     "traceback": [
      "\u001b[0;31m---------------------------------------------------------------------------\u001b[0m",
      "\u001b[0;31mKeyboardInterrupt\u001b[0m                         Traceback (most recent call last)",
      "\u001b[0;32m<ipython-input-1-03ab7f912032>\u001b[0m in \u001b[0;36m<module>\u001b[0;34m\u001b[0m\n\u001b[1;32m     14\u001b[0m     \u001b[0mX\u001b[0m\u001b[0;34m.\u001b[0m\u001b[0mappend\u001b[0m\u001b[0;34m(\u001b[0m\u001b[0;34m(\u001b[0m\u001b[0;36m2\u001b[0m \u001b[0;34m+\u001b[0m \u001b[0;36m2\u001b[0m\u001b[0;34m*\u001b[0m\u001b[0mi\u001b[0m\u001b[0;34m)\u001b[0m\u001b[0;34m/\u001b[0m\u001b[0;34m(\u001b[0m\u001b[0mi\u001b[0m \u001b[0;34m+\u001b[0m \u001b[0;36m2\u001b[0m\u001b[0;34m)\u001b[0m\u001b[0;34m)\u001b[0m\u001b[0;34m\u001b[0m\u001b[0;34m\u001b[0m\u001b[0m\n\u001b[1;32m     15\u001b[0m \u001b[0;34m\u001b[0m\u001b[0m\n\u001b[0;32m---> 16\u001b[0;31m     \u001b[0mnumInfected1\u001b[0m \u001b[0;34m=\u001b[0m \u001b[0mpercolation\u001b[0m\u001b[0;34m.\u001b[0m\u001b[0mcalculateFinalInfectionPrefAttach\u001b[0m\u001b[0;34m(\u001b[0m\u001b[0;36m1\u001b[0m\u001b[0;34m,\u001b[0m \u001b[0;34m[\u001b[0m\u001b[0;34m[\u001b[0m\u001b[0;36m0\u001b[0m\u001b[0;34m,\u001b[0m\u001b[0;36m1\u001b[0m\u001b[0;34m]\u001b[0m\u001b[0;34m,\u001b[0m \u001b[0;34m[\u001b[0m\u001b[0;36m1\u001b[0m\u001b[0;34m,\u001b[0m\u001b[0;36m0\u001b[0m\u001b[0;34m]\u001b[0m\u001b[0;34m]\u001b[0m\u001b[0;34m,\u001b[0m \u001b[0;34m[\u001b[0m\u001b[0;36m0\u001b[0m\u001b[0;34m,\u001b[0m\u001b[0;36m1\u001b[0m\u001b[0;34m]\u001b[0m\u001b[0;34m,\u001b[0m \u001b[0;36m2\u001b[0m\u001b[0;34m,\u001b[0m \u001b[0mi\u001b[0m\u001b[0;34m,\u001b[0m \u001b[0;36m100\u001b[0m\u001b[0;34m,\u001b[0m \u001b[0;36m0.9\u001b[0m\u001b[0;34m,\u001b[0m \u001b[0;36m0.1\u001b[0m\u001b[0;34m)\u001b[0m\u001b[0;34m\u001b[0m\u001b[0;34m\u001b[0m\u001b[0m\n\u001b[0m\u001b[1;32m     17\u001b[0m     \u001b[0mprefAttachment\u001b[0m\u001b[0;34m.\u001b[0m\u001b[0mappend\u001b[0m\u001b[0;34m(\u001b[0m\u001b[0mnumInfected1\u001b[0m\u001b[0;34m)\u001b[0m\u001b[0;34m\u001b[0m\u001b[0;34m\u001b[0m\u001b[0m\n\u001b[1;32m     18\u001b[0m \u001b[0;34m\u001b[0m\u001b[0m\n",
      "\u001b[0;32m~/Documents/GitHub/CURIS2021/percolation.py\u001b[0m in \u001b[0;36mcalculateFinalInfectionPrefAttach\u001b[0;34m(numOfInfectedNodes, graph, curr_nodes, n, i, numOfTrials, transmissionRate, recoveryRate)\u001b[0m\n\u001b[1;32m     79\u001b[0m   \u001b[0mnum_infected\u001b[0m \u001b[0;34m=\u001b[0m \u001b[0;34m[\u001b[0m\u001b[0;34m]\u001b[0m\u001b[0;34m\u001b[0m\u001b[0;34m\u001b[0m\u001b[0m\n\u001b[1;32m     80\u001b[0m   \u001b[0;32mfor\u001b[0m \u001b[0m_\u001b[0m \u001b[0;32min\u001b[0m \u001b[0mrange\u001b[0m\u001b[0;34m(\u001b[0m\u001b[0mnumOfTrials\u001b[0m\u001b[0;34m)\u001b[0m\u001b[0;34m:\u001b[0m\u001b[0;34m\u001b[0m\u001b[0;34m\u001b[0m\u001b[0m\n\u001b[0;32m---> 81\u001b[0;31m     \u001b[0mgraph\u001b[0m \u001b[0;34m=\u001b[0m \u001b[0mgraphs\u001b[0m\u001b[0;34m.\u001b[0m\u001b[0mpref_attachment\u001b[0m\u001b[0;34m(\u001b[0m\u001b[0mgraph\u001b[0m\u001b[0;34m,\u001b[0m \u001b[0mcurr_nodes\u001b[0m\u001b[0;34m,\u001b[0m \u001b[0mn\u001b[0m\u001b[0;34m,\u001b[0m \u001b[0mi\u001b[0m\u001b[0;34m)\u001b[0m\u001b[0;34m\u001b[0m\u001b[0;34m\u001b[0m\u001b[0m\n\u001b[0m\u001b[1;32m     82\u001b[0m     \u001b[0mgraph\u001b[0m \u001b[0;34m=\u001b[0m \u001b[0mpercolation\u001b[0m\u001b[0;34m(\u001b[0m\u001b[0mgraph\u001b[0m\u001b[0;34m,\u001b[0m \u001b[0mtransmissionRate\u001b[0m\u001b[0;34m,\u001b[0m \u001b[0mrecoveryRate\u001b[0m\u001b[0;34m)\u001b[0m\u001b[0;34m\u001b[0m\u001b[0;34m\u001b[0m\u001b[0m\n\u001b[1;32m     83\u001b[0m     \u001b[0minfected_nodes\u001b[0m \u001b[0;34m=\u001b[0m \u001b[0mfind_entire_connection\u001b[0m\u001b[0;34m(\u001b[0m\u001b[0mrandom\u001b[0m\u001b[0;34m.\u001b[0m\u001b[0msample\u001b[0m\u001b[0;34m(\u001b[0m\u001b[0;34m[\u001b[0m\u001b[0mi\u001b[0m \u001b[0;32mfor\u001b[0m \u001b[0mi\u001b[0m \u001b[0;32min\u001b[0m \u001b[0mrange\u001b[0m\u001b[0;34m(\u001b[0m\u001b[0;36m0\u001b[0m\u001b[0;34m,\u001b[0m \u001b[0mi\u001b[0m\u001b[0;34m+\u001b[0m\u001b[0;36m2\u001b[0m\u001b[0;34m)\u001b[0m\u001b[0;34m]\u001b[0m\u001b[0;34m,\u001b[0m \u001b[0mnumOfInfectedNodes\u001b[0m\u001b[0;34m)\u001b[0m\u001b[0;34m,\u001b[0m \u001b[0mgraph\u001b[0m\u001b[0;34m,\u001b[0m \u001b[0mi\u001b[0m\u001b[0;34m+\u001b[0m\u001b[0;36m2\u001b[0m\u001b[0;34m)\u001b[0m\u001b[0;34m\u001b[0m\u001b[0;34m\u001b[0m\u001b[0m\n",
      "\u001b[0;32m~/Documents/GitHub/CURIS2021/graphs.py\u001b[0m in \u001b[0;36mpref_attachment\u001b[0;34m(graph, curr_nodes, n, N)\u001b[0m\n\u001b[1;32m    123\u001b[0m     \u001b[0;32mfor\u001b[0m \u001b[0mnode\u001b[0m \u001b[0;32min\u001b[0m \u001b[0mcurr_nodes\u001b[0m\u001b[0;34m:\u001b[0m\u001b[0;34m\u001b[0m\u001b[0;34m\u001b[0m\u001b[0m\n\u001b[1;32m    124\u001b[0m       \u001b[0mdeg\u001b[0m \u001b[0;34m=\u001b[0m \u001b[0mfind_degree\u001b[0m\u001b[0;34m(\u001b[0m\u001b[0mnode\u001b[0m\u001b[0;34m,\u001b[0m \u001b[0mgraph\u001b[0m\u001b[0;34m)\u001b[0m\u001b[0;34m\u001b[0m\u001b[0;34m\u001b[0m\u001b[0m\n\u001b[0;32m--> 125\u001b[0;31m       \u001b[0msum\u001b[0m \u001b[0;34m=\u001b[0m \u001b[0msum_degs\u001b[0m\u001b[0;34m(\u001b[0m\u001b[0mgraph\u001b[0m\u001b[0;34m,\u001b[0m \u001b[0mcurr_nodes\u001b[0m\u001b[0;34m)\u001b[0m\u001b[0;34m\u001b[0m\u001b[0;34m\u001b[0m\u001b[0m\n\u001b[0m\u001b[1;32m    126\u001b[0m       \u001b[0mp_node\u001b[0m \u001b[0;34m=\u001b[0m \u001b[0mdeg\u001b[0m\u001b[0;34m/\u001b[0m\u001b[0msum\u001b[0m\u001b[0;34m\u001b[0m\u001b[0;34m\u001b[0m\u001b[0m\n\u001b[1;32m    127\u001b[0m       \u001b[0;32mif\u001b[0m \u001b[0mnp\u001b[0m\u001b[0;34m.\u001b[0m\u001b[0mrandom\u001b[0m\u001b[0;34m.\u001b[0m\u001b[0mrand\u001b[0m\u001b[0;34m(\u001b[0m\u001b[0;34m)\u001b[0m \u001b[0;34m<\u001b[0m \u001b[0mp_node\u001b[0m\u001b[0;34m:\u001b[0m\u001b[0;34m\u001b[0m\u001b[0;34m\u001b[0m\u001b[0m\n",
      "\u001b[0;32m~/Documents/GitHub/CURIS2021/graphs.py\u001b[0m in \u001b[0;36msum_degs\u001b[0;34m(graph, curr_nodes)\u001b[0m\n\u001b[1;32m    114\u001b[0m   \u001b[0msum\u001b[0m \u001b[0;34m=\u001b[0m \u001b[0;36m0\u001b[0m\u001b[0;34m\u001b[0m\u001b[0;34m\u001b[0m\u001b[0m\n\u001b[1;32m    115\u001b[0m   \u001b[0;32mfor\u001b[0m \u001b[0mnode\u001b[0m \u001b[0;32min\u001b[0m \u001b[0mcurr_nodes\u001b[0m\u001b[0;34m:\u001b[0m\u001b[0;34m\u001b[0m\u001b[0;34m\u001b[0m\u001b[0m\n\u001b[0;32m--> 116\u001b[0;31m     \u001b[0mdeg\u001b[0m \u001b[0;34m=\u001b[0m \u001b[0mfind_degree\u001b[0m\u001b[0;34m(\u001b[0m\u001b[0mnode\u001b[0m\u001b[0;34m,\u001b[0m \u001b[0mgraph\u001b[0m\u001b[0;34m)\u001b[0m\u001b[0;34m\u001b[0m\u001b[0;34m\u001b[0m\u001b[0m\n\u001b[0m\u001b[1;32m    117\u001b[0m     \u001b[0msum\u001b[0m \u001b[0;34m+=\u001b[0m \u001b[0mdeg\u001b[0m\u001b[0;34m\u001b[0m\u001b[0;34m\u001b[0m\u001b[0m\n\u001b[1;32m    118\u001b[0m   \u001b[0;32mreturn\u001b[0m \u001b[0msum\u001b[0m\u001b[0;34m\u001b[0m\u001b[0;34m\u001b[0m\u001b[0m\n",
      "\u001b[0;32m~/Documents/GitHub/CURIS2021/graphs.py\u001b[0m in \u001b[0;36mfind_degree\u001b[0;34m(node, graph)\u001b[0m\n\u001b[1;32m    107\u001b[0m   \u001b[0mdegree\u001b[0m \u001b[0;34m=\u001b[0m \u001b[0;36m0\u001b[0m\u001b[0;34m\u001b[0m\u001b[0;34m\u001b[0m\u001b[0m\n\u001b[1;32m    108\u001b[0m   \u001b[0;32mfor\u001b[0m \u001b[0medge\u001b[0m \u001b[0;32min\u001b[0m \u001b[0mgraph\u001b[0m\u001b[0;34m:\u001b[0m\u001b[0;34m\u001b[0m\u001b[0;34m\u001b[0m\u001b[0m\n\u001b[0;32m--> 109\u001b[0;31m     \u001b[0;32mif\u001b[0m \u001b[0medge\u001b[0m\u001b[0;34m[\u001b[0m\u001b[0;36m0\u001b[0m\u001b[0;34m]\u001b[0m \u001b[0;34m==\u001b[0m \u001b[0mnode\u001b[0m\u001b[0;34m:\u001b[0m\u001b[0;34m\u001b[0m\u001b[0;34m\u001b[0m\u001b[0m\n\u001b[0m\u001b[1;32m    110\u001b[0m       \u001b[0mdegree\u001b[0m \u001b[0;34m+=\u001b[0m \u001b[0;36m1\u001b[0m\u001b[0;34m\u001b[0m\u001b[0;34m\u001b[0m\u001b[0m\n\u001b[1;32m    111\u001b[0m   \u001b[0;32mreturn\u001b[0m \u001b[0mdegree\u001b[0m\u001b[0;34m\u001b[0m\u001b[0;34m\u001b[0m\u001b[0m\n",
      "\u001b[0;31mKeyboardInterrupt\u001b[0m: "
     ]
    }
   ],
   "source": [
    "import graphs\n",
    "import percolation\n",
    "import random\n",
    "import numpy as np\n",
    "import matplotlib.pyplot as plt\n",
    "\n",
    "number_of_nodes = 50\n",
    "X = []\n",
    "prefAttachment = []\n",
    "erdos_renyi = []\n",
    "\n",
    "for i in range(25, number_of_nodes):\n",
    "\n",
    "    X.append((2 + 2*i)/(i + 2))\n",
    "\n",
    "    numInfected1 = percolation.calculateFinalInfectionPrefAttach(1, [[0,1], [1,0]], [0,1], 2, i, 100, 0.9, 0.1)\n",
    "    prefAttachment.append(numInfected1)\n",
    "\n",
    "    numInfected2 = percolation.calculateFinalInfectionErdosReyni(1, i + 2, 2*i + 2, 100, 0.9, 0.1)\n",
    "    erdos_renyi.append(numInfected2)    \n",
    "\n",
    "\n",
    "plt.plot(X, prefAttachment, label=\"Preferential Attachment Graph\")\n",
    "plt.plot(X, erdos_renyi, label=\"Erdos Reyni Graph\")\n",
    "plt.legend()\n",
    "plt.xlabel('Average Node Degrees')\n",
    "plt.ylabel('Total Size of Infection')\n",
    "plt.title('Infection Spread for Different Average Node Degrees')\n",
    "\n",
    "\n"
   ]
  },
  {
   "cell_type": "code",
   "execution_count": null,
   "metadata": {},
   "outputs": [],
   "source": [
    "import graphs\n",
    "import percolation\n",
    "import random\n",
    "import numpy as np\n",
    "import matplotlib.pyplot as plt\n",
    "\n",
    "number_of_nodes = 50\n",
    "X = []\n",
    "prefAttachment = []\n",
    "erdos_renyi = []\n",
    "\n",
    "for i in range(1, number_of_nodes):\n",
    "\n",
    "    X.append(i + 2)\n",
    "\n",
    "    X.append((2 + 2*i)/(i + 2))\n",
    "\n",
    "    numInfected1 = percolation.calculateFinalInfectionPrefAttach(1, [[0,1], [1,0]], [0,1], 2, i, 100,  0.9, 0.1)\n",
    "    prefAttachment.append(numInfected1)\n",
    "\n",
    "    numInfected2 = percolation.calculateFinalInfectionErdosReyni(1, i + 2, 2*i + 2, 100, 0.9, 0.1)\n",
    "    erdos_renyi.append(numInfected2)    \n",
    "\n",
    "plt.plot(X, prefAttachment, label=\"Preferential Attachment Graph\")\n",
    "plt.plot(X, erdos_renyi, label=\"Erdos Reyni Graph\")\n",
    "plt.legend()\n",
    "plt.xlabel('Number of Nodes')\n",
    "plt.ylabel('Total Size of Infection')\n",
    "plt.title('Infection Spread for Different Average Node Degrees')"
   ]
  },
  {
   "cell_type": "code",
   "execution_count": null,
   "metadata": {},
   "outputs": [],
   "source": [
    "import graphs\n",
    "import percolation\n",
    "import random\n",
    "import numpy as np\n",
    "import matplotlib.pyplot as plt\n",
    "\n",
    "X = []\n",
    "Y = []\n",
    "\n",
    "for numEdge in range(300, 700, 50):\n",
    "    probabilities = np.arange(0, 1.1, 0.1)\n",
    "    for perc_prob in probabilities:\n",
    "            X.append(perc_prob)\n",
    "            Y.append(percolation.calculateFinalInfectionErdosReyni2(1, 100, numEdge, 100, perc_prob))\n",
    "plt.scatter(X, Y, label = 'Number of edges:' + str(numEdge))\n",
    "plt.xlabel('Percolation Probability')\n",
    "plt.ylabel('Total Number of Infected Nodes')\n",
    "plt.title('Number of nodes: 100')\n",
    "plt.legend()\n"
   ]
  },
  {
   "cell_type": "code",
   "execution_count": null,
   "metadata": {},
   "outputs": [],
   "source": [
    "import graphs\n",
    "import percolation\n",
    "import random\n",
    "import numpy as np\n",
    "import marko\n",
    "import matplotlib.pyplot as plt\n",
    "\n",
    "X = []\n",
    "Y = []\n",
    "probabilities = np.arange(0, 1.01, 0.02)\n",
    "\n",
    "for perc_prob in probabilities:\n",
    "    X.append(perc_prob)\n",
    "    Y.append(percolation.calculateFinalInfectionErdosReyni2(1, 100, 500, 100, perc_prob))\n",
    "plt.plot(X, Y, label = 'Percolation')\n",
    "\n",
    "X = []\n",
    "Y = []\n",
    "for perc_prob in probabilities:\n",
    "    X.append(perc_prob)\n",
    "    Y.append(percolation.calculateFinalInfectionErdosReyni2(1, 100, 500, 100, perc_prob))\n",
    "plt.plot(X, Y, label = 'Markovian SIR')\n",
    "\n",
    "plt.xlabel('Percolation Probability')\n",
    "plt.ylabel('Total Number of Infected Nodes')\n",
    "plt.title('Number of nodes: 100; Number of edges:500')\n",
    "plt.legend()\n"
   ]
  },
  {
   "cell_type": "code",
   "execution_count": null,
   "metadata": {},
   "outputs": [],
   "source": [
    "import graphs\n",
    "import percolation\n",
    "import random\n",
    "import numpy as np\n",
    "import matplotlib.pyplot as plt\n",
    "\n",
    "transmission_rates = np.arange(0, 1.1, 0.2)\n",
    "recovery_rates = np.arange(0, 1.1, 0.2)\n",
    "for beta in transmission_rates:\n",
    "    X = []\n",
    "    Y = []\n",
    "    for rho in recovery_rates:\n",
    "        perc_prob = beta / (beta + rho)\n",
    "        X.append(perc_prob)\n",
    "        Y.append(percolation.calculateFinalInfectionErdosReyni2(1, 100, 500, 100, perc_prob))\n",
    "    plt.plot(X, Y, label = 'transmission rate: ' + str(beta))\n",
    "plt.xlabel('Percolation Probability')\n",
    "plt.ylabel('Total Number of Infected Nodes')\n",
    "plt.title('Number of nodes: 100; Number of edges:500')\n",
    "plt.legend()\n"
   ]
  },
  {
   "cell_type": "code",
   "execution_count": 2,
   "metadata": {},
   "outputs": [
    {
     "output_type": "stream",
     "name": "stdout",
     "text": [
      "1\n2\n3\n4\n5\n6\n7\n8\n9\n10\n11\n12\n13\n14\n15\n16\n17\n18\n19\n20\n21\n22\n23\n24\n25\n26\n27\n28\n29\n30\n31\n32\n33\n34\n35\n36\n37\n38\n39\n40\n41\n42\n43\n44\n45\n46\n47\n48\n49\n50\n51\n52\n53\n54\n55\n56\n57\n58\n59\n60\n61\n62\n63\n64\n65\n66\n67\n68\n69\n70\n71\n72\n73\n74\n75\n76\n77\n78\n79\n80\n81\n82\n83\n84\n85\n86\n87\n88\n89\n90\n91\n92\n93\n94\n95\n96\n97\n98\n99\n100\n[0, 6, 7, 10, 11, 15, 17, 18, 19, 20, 22, 26, 31, 35, 36, 46, 53, 55, 62, 73, 88]\n[0, 6, 7, 10, 11, 18, 19, 20, 22, 53, 55, 88]\n[0, 7, 10, 11, 18, 22, 53]\n[0, 11, 18, 22]\n[0, 18]\n[]\n[79, 9, 5, 3, 2, 2]\n"
     ]
    }
   ],
   "source": [
    "import configuration_model\n",
    "\n",
    "print('1:0.5, 2:0.5')\n",
    "graph = configuration_model.config_model({1:1/2, 2:1/2}, 100)\n",
    "print('Expected Giant Component Size: 0')\n",
    "print('Configuration Model: ' + str(configuration_model.findComponentSizes(graph, 100)))\n",
    "\n",
    "print('1:0.9, 6:0.1')\n",
    "graph = configuration_model.config_model({1:9/10, 6:1/10}, 100)\n",
    "print('Expected Giant Component Size: 41.28')\n",
    "print('Configuration Model: ' + str(configuration_model.findComponentSizes(graph, 100)))\n",
    "\n",
    "print('1:1/2, 3:1/2')\n",
    "graph = configuration_model.config_model({1:1/2, 3:1/2}, 100)\n",
    "print('Expected Giant Component Size: 81.48')\n",
    "print('Configuration Model: ' + str(configuration_model.findComponentSizes(graph, 100)))\n",
    "\n",
    "print('1:1/4, 2:1/2, 3:1/4')\n",
    "graph = configuration_model.config_model({1:1/4, 2:1/2, 3:1/4}, 100)\n",
    "print('Expected Giant Component Size: 85.14')\n",
    "print('Configuration Model: ' + str(configuration_model.findComponentSizes(graph, 100)))\n"
   ]
  },
  {
   "cell_type": "code",
   "execution_count": null,
   "metadata": {},
   "outputs": [],
   "source": []
  }
 ],
 "metadata": {
  "kernelspec": {
   "name": "python3",
   "display_name": "Python 3.8.1 64-bit"
  },
  "language_info": {
   "codemirror_mode": {
    "name": "ipython",
    "version": 3
   },
   "file_extension": ".py",
   "mimetype": "text/x-python",
   "name": "python",
   "nbconvert_exporter": "python",
   "pygments_lexer": "ipython3",
   "version": "3.8.1"
  },
  "metadata": {
   "interpreter": {
    "hash": "31f2aee4e71d21fbe5cf8b01ff0e069b9275f58929596ceb00d14d90e3e16cd6"
   }
  },
  "interpreter": {
   "hash": "aee8b7b246df8f9039afb4144a1f6fd8d2ca17a180786b69acc140d282b71a49"
  }
 },
 "nbformat": 4,
 "nbformat_minor": 5
}