{
 "cells": [
  {
   "cell_type": "code",
   "execution_count": 7,
   "id": "43be6d87",
   "metadata": {},
   "outputs": [
    {
     "output_type": "stream",
     "name": "stdout",
     "text": [
      "Yay\n"
     ]
    }
   ],
   "source": [
    "print('Yay')"
   ]
  },
  {
   "cell_type": "code",
   "execution_count": 8,
   "id": "779b2036",
   "metadata": {},
   "outputs": [],
   "source": [
    "import SIR"
   ]
  },
  {
   "cell_type": "code",
   "execution_count": 11,
   "id": "c83b7bb1",
   "metadata": {},
   "outputs": [
    {
     "output_type": "stream",
     "name": "stdout",
     "text": [
      "[[1, 2], [2, 1], [1, 3], [3, 1], [1, 4], [4, 1], [1, 5], [5, 1]]\n[[1, 2], [2, 1], [1, 3], [3, 1], [1, 4], [4, 1], [1, 5], [5, 1]]\n"
     ]
    }
   ],
   "source": [
    "SIR.undirected_star_graph(5)"
   ]
  },
  {
   "cell_type": "code",
   "execution_count": null,
   "id": "1b9090f5",
   "metadata": {},
   "outputs": [],
   "source": []
  }
 ],
 "metadata": {
  "kernelspec": {
   "name": "python382jvsc74a57bd031f2aee4e71d21fbe5cf8b01ff0e069b9275f58929596ceb00d14d90e3e16cd6",
   "display_name": "Python 3.8.2 64-bit"
  },
  "language_info": {
   "codemirror_mode": {
    "name": "ipython",
    "version": 3
   },
   "file_extension": ".py",
   "mimetype": "text/x-python",
   "name": "python",
   "nbconvert_exporter": "python",
   "pygments_lexer": "ipython3",
   "version": "3.8.2"
  },
  "metadata": {
   "interpreter": {
    "hash": "31f2aee4e71d21fbe5cf8b01ff0e069b9275f58929596ceb00d14d90e3e16cd6"
   }
  }
 },
 "nbformat": 4,
 "nbformat_minor": 5
}