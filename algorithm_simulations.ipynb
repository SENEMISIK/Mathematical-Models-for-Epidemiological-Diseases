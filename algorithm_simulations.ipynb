{
 "metadata": {
  "language_info": {
   "codemirror_mode": {
    "name": "ipython",
    "version": 3
   },
   "file_extension": ".py",
   "mimetype": "text/x-python",
   "name": "python",
   "nbconvert_exporter": "python",
   "pygments_lexer": "ipython3",
   "version": 3
  },
  "orig_nbformat": 4
 },
 "nbformat": 4,
 "nbformat_minor": 2,
 "cells": [
  {
   "cell_type": "code",
   "execution_count": null,
   "metadata": {},
   "outputs": [],
   "source": [
    "import experimenting\n",
    "import matplotlib.pyplot as plt\n",
    "import numpy as np\n",
    "\n",
    "numOfInfectedNodes = 1\n",
    "numOfTriangles = 100\n",
    "numOfTrials = 20\n",
    "transmissionRate = 0.7\n",
    "initial_recovery_rate = 0.1\n",
    "budget = np.arange(50, 200, 10)\n",
    "\n",
    "three_nodes = []\n",
    "two_nodes = []\n",
    "one_node = []\n",
    "\n",
    "for budget in budgets:\n",
    "    three_nodes.append(experimenting.calculateFinalInfection1(numOfInfectedNodes, numOfTriangles, numOfTrials, transmissionRate, initial_recovery_rate, budget))\n",
    "    two_nodes.append(experimenting.calculateFinalInfection1(numOfInfectedNodes, numOfTriangles, numOfTrials, transmissionRate, initial_recovery_rate, budget))\n",
    "    one_node.append(experimenting.calculateFinalInfection1(numOfInfectedNodes, numOfTriangles, numOfTrials, transmissionRate, initial_recovery_rate, budget))\n",
    "\n",
    "plt.plot(budgets, three_nodes, label = \"all nodes\")\n",
    "plt.plot(budgets, two_nodes, label = \"2 nodes for each triangle\")\n",
    "plt.plot(budgets, one_node, label = \"1 node for each triangle\")\n",
    "\n",
    "plt.xlabel(\"Budget\")\n",
    "plt.ylabel(\"Infection Size\")\n",
    "plt.title(\"# of Triangles = \" + str(numOfTriangles) + \"Transmission Rate = \" + str(transmissionRate))\n",
    "plt.legend()\n",
    "    \n"
   ]
  }
 ]
}