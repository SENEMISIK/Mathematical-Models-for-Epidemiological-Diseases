{
 "metadata": {
  "language_info": {
   "codemirror_mode": {
    "name": "ipython",
    "version": 3
   },
   "file_extension": ".py",
   "mimetype": "text/x-python",
   "name": "python",
   "nbconvert_exporter": "python",
   "pygments_lexer": "ipython3",
   "version": "3.8.1"
  },
  "orig_nbformat": 4,
  "kernelspec": {
   "name": "python3",
   "display_name": "Python 3.8.1 64-bit"
  },
  "interpreter": {
   "hash": "aee8b7b246df8f9039afb4144a1f6fd8d2ca17a180786b69acc140d282b71a49"
  }
 },
 "nbformat": 4,
 "nbformat_minor": 2,
 "cells": [
  {
   "cell_type": "code",
   "execution_count": null,
   "metadata": {},
   "outputs": [],
   "source": [
    "import experimenting\n",
    "import matplotlib.pyplot as plt\n",
    "import numpy as np\n",
    "\n",
    "numOfInfectedNodes = 1\n",
    "numOfTriangles = 300\n",
    "numOfTrials = 200\n",
    "transmissionRate = 0.7\n",
    "initial_recovery_rate = 0.1\n",
    "budgets = np.arange(500, 2000, 50)\n",
    "\n",
    "three_nodes = []\n",
    "two_nodes = []\n",
    "one_node = []\n",
    "\n",
    "for budget in budgets:\n",
    "    print(budget)\n",
    "    three_nodes.append(experimenting.calculateFinalInfection1(numOfInfectedNodes, numOfTriangles, numOfTrials, transmissionRate, initial_recovery_rate, budget))\n",
    "    two_nodes.append(experimenting.calculateFinalInfection1(numOfInfectedNodes, numOfTriangles, numOfTrials, transmissionRate, initial_recovery_rate, budget))\n",
    "    one_node.append(experimenting.calculateFinalInfection1(numOfInfectedNodes, numOfTriangles, numOfTrials, transmissionRate, initial_recovery_rate, budget))\n",
    "\n",
    "plt.plot(budgets, three_nodes, label = \"all nodes\")\n",
    "plt.plot(budgets, two_nodes, label = \"2 nodes for each triangle\")\n",
    "plt.plot(budgets, one_node, label = \"1 node for each triangle\")\n",
    "\n",
    "plt.xlabel(\"Budget\")\n",
    "plt.ylabel(\"Infection Size\")\n",
    "plt.title(\"# of Triangles = \" + str(numOfTriangles) + \"Transmission Rate = \" + str(transmissionRate))\n",
    "plt.legend()\n",
    "    \n"
   ]
  },
  {
   "cell_type": "code",
   "execution_count": null,
   "metadata": {},
   "outputs": [],
   "source": []
  }
 ]
}