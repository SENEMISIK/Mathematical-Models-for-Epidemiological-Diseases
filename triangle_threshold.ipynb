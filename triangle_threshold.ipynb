{
 "cells": [
  {
   "cell_type": "code",
   "execution_count": null,
   "source": [
    "import nested_triangle as tr\n",
    "import matplotlib as plt \n",
    "\n",
    "fraction = 0.75\n",
    "numOfTriangles = 100\n",
    "numOfTrials = 20\n",
    "transmissionRate = 0.7\n",
    "initialRecoveryRate = 0.01\n",
    "budget1 = 100\n",
    "budget2 = 150\n",
    "\n",
    "scc_in_budget1, max_scc1_budget1, scc_out1_budget1, scc_in_budget2, max_scc1_budget2, scc_out1_budget2 = tr.calculateSCC(fraction, numOfTriangles, numOfTrials, transmissionRate, initialRecoveryRate, budget1, budget2)\n",
    "\n",
    "print(\"SCC IN (1): \" + str(scc_in_budget1))\n",
    "print(\"SCC (1): \" + str(max_scc1_budget1))\n",
    "print(\"SCC OUT (1): \" + str(scc_out1_budget1))\n",
    "print(\"SCC IN (2): \" + str(scc_in_budget1))\n",
    "print(\"SCC (2): \" + str(max_scc1_budget1))\n",
    "print(\"SCC OUT (2): \" + str(scc_out1_budget1))"
   ],
   "outputs": [],
   "metadata": {}
  }
 ],
 "metadata": {
  "orig_nbformat": 4,
  "language_info": {
   "name": "python"
  }
 },
 "nbformat": 4,
 "nbformat_minor": 2
}