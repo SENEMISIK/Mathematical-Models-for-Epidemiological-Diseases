{
 "cells": [
  {
   "cell_type": "code",
   "execution_count": 1,
   "source": [
    "import nested_triangle as tr\n",
    "import matplotlib as plt \n",
    "\n",
    "fraction = 0.75\n",
    "numOfTriangles = 100\n",
    "numOfTrials = 1\n",
    "transmissionRate = 0.7\n",
    "initialRecoveryRate = 0.01\n",
    "budget1 = 75\n",
    "budget2 = 150\n",
    "\n",
    "# inf1, inf2 = tr.calculateSCC(fraction, numOfTriangles, numOfTrials, transmissionRate, initialRecoveryRate, budget1, budget2)\n",
    "\n",
    "# print(inf1)\n",
    "# print(inf2)\n",
    "inf1, inf2, scc_in_budget1, max_scc1_budget1, scc_out1_budget1, scc_in_budget2, max_scc1_budget2, scc_out1_budget2 = tr.calculateSCC(fraction, numOfTriangles, numOfTrials, transmissionRate, initialRecoveryRate, budget1, budget2)\n",
    "\n",
    "print(\"Budget: 75\")\n",
    "print(\"Infection Size: \" + str(inf1))\n",
    "print(\"SCC IN: \" + str(scc_in_budget1))\n",
    "print(\"SCC: \" + str(max_scc1_budget1))\n",
    "print(\"SCC OUT: \" + str(scc_out1_budget1))\n",
    "print(\" \")\n",
    "print(\"Budget: 150\")\n",
    "print(\"Infection Size: \" + str(inf2))\n",
    "print(\"SCC IN: \" + str(scc_in_budget2))\n",
    "print(\"SCC: \" + str(max_scc1_budget2))\n",
    "print(\"SCC OUT: \" + str(scc_out1_budget2))"
   ],
   "outputs": [
    {
     "output_type": "stream",
     "name": "stdout",
     "text": [
      "TRIANGLES: [ 3  0 35 19 60 18 78 10  8 79 82 46 58 48 19 67 77 50 29 59 56 95 50 76\n",
      " 97 82 55 20 46 42 65 84 45 66 69 12 56 76 77 60  2 51 36  3  2 17 79  8\n",
      " 50 71 82 97 26 44 42 98 38 51 18 45 20 70 29  4 53 39 26 80 23 72 91 71\n",
      " 68 19 66]\n"
     ]
    },
    {
     "output_type": "error",
     "ename": "UnboundLocalError",
     "evalue": "local variable 'firstGraph' referenced before assignment",
     "traceback": [
      "\u001b[0;31m---------------------------------------------------------------------------\u001b[0m",
      "\u001b[0;31mUnboundLocalError\u001b[0m                         Traceback (most recent call last)",
      "\u001b[0;32m<ipython-input-1-01f8951ce598>\u001b[0m in \u001b[0;36m<module>\u001b[0;34m\u001b[0m\n\u001b[1;32m     14\u001b[0m \u001b[0;31m# print(inf1)\u001b[0m\u001b[0;34m\u001b[0m\u001b[0;34m\u001b[0m\u001b[0;34m\u001b[0m\u001b[0m\n\u001b[1;32m     15\u001b[0m \u001b[0;31m# print(inf2)\u001b[0m\u001b[0;34m\u001b[0m\u001b[0;34m\u001b[0m\u001b[0;34m\u001b[0m\u001b[0m\n\u001b[0;32m---> 16\u001b[0;31m \u001b[0minf1\u001b[0m\u001b[0;34m,\u001b[0m \u001b[0minf2\u001b[0m\u001b[0;34m,\u001b[0m \u001b[0mscc_in_budget1\u001b[0m\u001b[0;34m,\u001b[0m \u001b[0mmax_scc1_budget1\u001b[0m\u001b[0;34m,\u001b[0m \u001b[0mscc_out1_budget1\u001b[0m\u001b[0;34m,\u001b[0m \u001b[0mscc_in_budget2\u001b[0m\u001b[0;34m,\u001b[0m \u001b[0mmax_scc1_budget2\u001b[0m\u001b[0;34m,\u001b[0m \u001b[0mscc_out1_budget2\u001b[0m \u001b[0;34m=\u001b[0m \u001b[0mtr\u001b[0m\u001b[0;34m.\u001b[0m\u001b[0mcalculateSCC\u001b[0m\u001b[0;34m(\u001b[0m\u001b[0mfraction\u001b[0m\u001b[0;34m,\u001b[0m \u001b[0mnumOfTriangles\u001b[0m\u001b[0;34m,\u001b[0m \u001b[0mnumOfTrials\u001b[0m\u001b[0;34m,\u001b[0m \u001b[0mtransmissionRate\u001b[0m\u001b[0;34m,\u001b[0m \u001b[0minitialRecoveryRate\u001b[0m\u001b[0;34m,\u001b[0m \u001b[0mbudget1\u001b[0m\u001b[0;34m,\u001b[0m \u001b[0mbudget2\u001b[0m\u001b[0;34m)\u001b[0m\u001b[0;34m\u001b[0m\u001b[0;34m\u001b[0m\u001b[0m\n\u001b[0m\u001b[1;32m     17\u001b[0m \u001b[0;34m\u001b[0m\u001b[0m\n\u001b[1;32m     18\u001b[0m \u001b[0mprint\u001b[0m\u001b[0;34m(\u001b[0m\u001b[0;34m\"Budget: 75\"\u001b[0m\u001b[0;34m)\u001b[0m\u001b[0;34m\u001b[0m\u001b[0;34m\u001b[0m\u001b[0m\n",
      "\u001b[0;32m~/Documents/GitHub/CURIS2021/nested_triangle.py\u001b[0m in \u001b[0;36mcalculateSCC\u001b[0;34m(fraction, numOfTriangles, numOfTrials, transmissionRate, initialRecoveryRate, budget1, budget2)\u001b[0m\n\u001b[1;32m    325\u001b[0m     \u001b[0mrecovery_rates\u001b[0m \u001b[0;34m=\u001b[0m \u001b[0mstrategyFraction\u001b[0m\u001b[0;34m(\u001b[0m\u001b[0mfraction\u001b[0m\u001b[0;34m,\u001b[0m \u001b[0minitialRecoveryRate\u001b[0m\u001b[0;34m,\u001b[0m \u001b[0mnumOfTriangles\u001b[0m\u001b[0;34m,\u001b[0m \u001b[0mbudget1\u001b[0m\u001b[0;34m)\u001b[0m\u001b[0;34m\u001b[0m\u001b[0;34m\u001b[0m\u001b[0m\n\u001b[1;32m    326\u001b[0m \u001b[0;34m\u001b[0m\u001b[0m\n\u001b[0;32m--> 327\u001b[0;31m     \u001b[0mscc_in1\u001b[0m\u001b[0;34m,\u001b[0m \u001b[0mmax_scc1\u001b[0m\u001b[0;34m,\u001b[0m \u001b[0mscc_out1\u001b[0m \u001b[0;34m=\u001b[0m \u001b[0mgenerate_bowtie\u001b[0m\u001b[0;34m(\u001b[0m\u001b[0mfirstGraph\u001b[0m\u001b[0;34m,\u001b[0m \u001b[0mnumOfTriangles\u001b[0m\u001b[0;34m*\u001b[0m\u001b[0;36m3\u001b[0m\u001b[0;34m)\u001b[0m\u001b[0;34m\u001b[0m\u001b[0;34m\u001b[0m\u001b[0m\n\u001b[0m\u001b[1;32m    328\u001b[0m     \u001b[0mscc_in_budget1\u001b[0m\u001b[0;34m.\u001b[0m\u001b[0mappend\u001b[0m\u001b[0;34m(\u001b[0m\u001b[0mlen\u001b[0m\u001b[0;34m(\u001b[0m\u001b[0mscc_in1\u001b[0m\u001b[0;34m)\u001b[0m\u001b[0;34m)\u001b[0m\u001b[0;34m\u001b[0m\u001b[0;34m\u001b[0m\u001b[0m\n\u001b[1;32m    329\u001b[0m     \u001b[0mmax_scc1_budget1\u001b[0m\u001b[0;34m.\u001b[0m\u001b[0mappend\u001b[0m\u001b[0;34m(\u001b[0m\u001b[0mlen\u001b[0m\u001b[0;34m(\u001b[0m\u001b[0mmax_scc1\u001b[0m\u001b[0;34m)\u001b[0m\u001b[0;34m)\u001b[0m\u001b[0;34m\u001b[0m\u001b[0;34m\u001b[0m\u001b[0m\n",
      "\u001b[0;31mUnboundLocalError\u001b[0m: local variable 'firstGraph' referenced before assignment"
     ]
    }
   ],
   "metadata": {}
  },
  {
   "cell_type": "code",
   "execution_count": null,
   "source": [],
   "outputs": [],
   "metadata": {}
  }
 ],
 "metadata": {
  "orig_nbformat": 4,
  "language_info": {
   "name": "python",
   "version": "3.8.1",
   "mimetype": "text/x-python",
   "codemirror_mode": {
    "name": "ipython",
    "version": 3
   },
   "pygments_lexer": "ipython3",
   "nbconvert_exporter": "python",
   "file_extension": ".py"
  },
  "kernelspec": {
   "name": "python3",
   "display_name": "Python 3.8.1 64-bit"
  },
  "interpreter": {
   "hash": "aee8b7b246df8f9039afb4144a1f6fd8d2ca17a180786b69acc140d282b71a49"
  }
 },
 "nbformat": 4,
 "nbformat_minor": 2
}