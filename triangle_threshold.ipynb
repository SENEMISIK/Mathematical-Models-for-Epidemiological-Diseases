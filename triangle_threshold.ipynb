{
 "cells": [
  {
   "cell_type": "code",
   "execution_count": 2,
   "source": [
    "import nested_triangle as tr\n",
    "import matplotlib as plt \n",
    "\n",
    "fraction = 0.75\n",
    "numOfTriangles = 100\n",
    "numOfTrials = 50\n",
    "transmissionRate = 0.7\n",
    "initialRecoveryRate = 0.01\n",
    "budget1 = 75\n",
    "budget2 = 150\n",
    "\n",
    "# inf1, inf2 = tr.calculateSCC(fraction, numOfTriangles, numOfTrials, transmissionRate, initialRecoveryRate, budget1, budget2)\n",
    "\n",
    "# print(inf1)\n",
    "# print(inf2)\n",
    "inf1, inf2, scc_in_budget1, max_scc1_budget1, scc_out1_budget1, scc_in_budget2, max_scc1_budget2, scc_out1_budget2 = tr.calculateSCC(fraction, numOfTriangles, numOfTrials, transmissionRate, initialRecoveryRate, budget1, budget2)\n",
    "\n",
    "print(\"Budget: 75\")\n",
    "print(\"Infection Size: \" + str(inf1))\n",
    "print(\"SCC IN: \" + str(scc_in_budget1))\n",
    "print(\"SCC: \" + str(max_scc1_budget1))\n",
    "print(\"SCC OUT: \" + str(scc_out1_budget1))\n",
    "print(\" \")\n",
    "print(\"Budget: 150\")\n",
    "print(\"Infection Size: \" + str(inf2))\n",
    "print(\"SCC IN: \" + str(scc_in_budget2))\n",
    "print(\"SCC: \" + str(max_scc1_budget2))\n",
    "print(\"SCC OUT: \" + str(scc_out1_budget2))"
   ],
   "outputs": [
    {
     "output_type": "stream",
     "name": "stdout",
     "text": [
      "TRIANGLES: [91 58 92 11  4 22 52 20 86 33 52 31 99 25 80  3 50 66 49 69 90 96 73 77\n",
      "  5 26 41 17 44 61  3 25 47  9  3 58 96 58 56  5 18 26 79 20 40 90  7 83\n",
      " 92 79 37 58 92  9 56 78 87 49  1 90 72 36 99 64 84  7 60 92 93 64 98 38\n",
      " 85 14  8]\n",
      "TRIANGLES: [12 25 75  2 51 27  3 28 87  2 59 28 56 84 11 12 40 86 96 98 22 64 49 47\n",
      " 27 39 92 88 85 31 69 11 28 97 76 56 87 81 59  4 84 28 93 34 55 17 48  9\n",
      "  6 17  9 68 26 51 29 96 37 56 65 30 68 76 98 60 55 81 54 16 28  6 57 67\n",
      " 86  2  6]\n",
      "TRIANGLES: [41 40 54 92 53 18  3 16 10 22 24 32 64 69 48 53 86 41 11 75 21 20 56 21\n",
      " 83 75 53 45 12  3 46  1  8 29 16 11 97 50 38 69 52 34 71 50  5 75  5 11\n",
      " 37 77 29 84 69 80 85 55 93 40 11  3 91 39 95 89 82 95 16 71 34 13 63 71\n",
      "  0  1 87]\n",
      "TRIANGLES: [ 1 62 28 55 20 64 35 67 42 15 45 35 89 53 97 23 92 47 28 56 85 34 50 58\n",
      " 33 29 67 67 15 44 28  4 24 68 31 78 63 44 48 28 25 37 19 13  6  5 52 11\n",
      " 36 74 41 40 53 91 70 94 34 41 54 69 62 78 92 60 13 52 22 70 45 48 48 70\n",
      " 68 35 79]\n",
      "TRIANGLES: [42 25 20 37 56 83 23 87 45 74 17 97 77 47 16 51 53 55 99 60 11 93 74 45\n",
      " 52 26  9 29 60 70 29  9 24 35 20 90 13  8 77 97 45  8 72  7 60 22 79  4\n",
      " 14 74 58 48 32 64 67 77 24 18 34 87 10  4 21  3 13 51 53  5 58 29 27 14\n",
      " 28 94 84]\n",
      "TRIANGLES: [ 7 10 69 36 65 19 59 30 13  8 53 55 82 72  9 84 84  1 11 49 80 27 74  1\n",
      " 52  3 81 71 96 34 93 34 54 25 73 93  6 85 78 12 90 61  7 27 86 84 42 50\n",
      " 97  0 33 66 21 77 71 52 80 23 34 65 74 45 93 92 28  0 72 99 35 42 38 59\n",
      "  2 58  8]\n",
      "TRIANGLES: [78 91 50 11 82  4 46 33 28 12 19 60 42 44 65 81 44 62 39 17 65 43 82 22\n",
      " 55 83 77 12 43 64 84 83 20 32 94  1 88 15 83 95 51 86 19 51 20 94 63 74\n",
      "  1 75  7 60 25 64 80 31 34 94 73 66 28  8 70 93 33 38 36 56 98 97 72 20\n",
      " 37 65 83]\n",
      "TRIANGLES: [45  9 13 13 83 59 34 37 48 91 54 79 55 43 53 53  3 58 18 98 62 42 85 46\n",
      " 97 48 66 92 31  9 59 98 24  8 43 70  8 85 51 67 22 70 31 26 51 37 24 16\n",
      " 20 82 82 21 36 71 54 52 77  2 20 71 43  6 85 11 57 15 73 95 34 10 60 79\n",
      " 41 58 85]\n",
      "TRIANGLES: [29 68 97 94 80 21  3 60 72 39  7 63 34 83 80 39 40 33 87 40 47 44 25 85\n",
      " 37 44  2 39 70 14 56 95 82 98 15 75 61 98  0  8 75 21 26 51 40 63 52 33\n",
      "  6 24  5 23 48 94 17 75 28 35  3 78 47 93 18 87  1 12 36 63 72 99  6 85\n",
      " 91 12 43]\n",
      "TRIANGLES: [40 25 72 16 87 33 44 94 54 17 81  1 40  1 97 40 39 26 25 84 27 60  9 37\n",
      " 40 18 59 11 68 64 48 73 51 31 34 62 36 23 74 57 84 99 13 30 72 28 25 90\n",
      " 46  9 69 32 64 12 39 93 93 10 94 72 11 35 33 14 34 12 85 55 92 95 36 89\n",
      " 28 28 35]\n",
      "Budget: 75\n",
      "Infection Size: 279.5\n",
      "SCC IN: 15.3\n",
      "SCC: 239.1\n",
      "SCC OUT: 40.4\n",
      " \n",
      "Budget: 150\n",
      "Infection Size: 175.9\n",
      "SCC IN: 33.3\n",
      "SCC: 161.4\n",
      "SCC OUT: 69.9\n"
     ]
    }
   ],
   "metadata": {}
  },
  {
   "cell_type": "code",
   "execution_count": null,
   "source": [],
   "outputs": [],
   "metadata": {}
  }
 ],
 "metadata": {
  "orig_nbformat": 4,
  "language_info": {
   "name": "python",
   "version": "3.8.1",
   "mimetype": "text/x-python",
   "codemirror_mode": {
    "name": "ipython",
    "version": 3
   },
   "pygments_lexer": "ipython3",
   "nbconvert_exporter": "python",
   "file_extension": ".py"
  },
  "kernelspec": {
   "name": "python3",
   "display_name": "Python 3.8.1 64-bit"
  },
  "interpreter": {
   "hash": "aee8b7b246df8f9039afb4144a1f6fd8d2ca17a180786b69acc140d282b71a49"
  }
 },
 "nbformat": 4,
 "nbformat_minor": 2
}