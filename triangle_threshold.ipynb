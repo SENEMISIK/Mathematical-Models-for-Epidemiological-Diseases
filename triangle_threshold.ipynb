{
 "cells": [
  {
   "cell_type": "code",
   "execution_count": 3,
   "source": [
    "import nested_triangle as tr\n",
    "import matplotlib as plt \n",
    "\n",
    "fraction = 0.75\n",
    "numOfTriangles = 100\n",
    "numOfTrials = 20\n",
    "transmissionRate = 0.7\n",
    "initialRecoveryRate = 0.01\n",
    "budget1 = 100\n",
    "budget2 = 150\n",
    "\n",
    "scc_in_budget1, max_scc1_budget1, scc_out1_budget1, scc_in_budget2, max_scc1_budget2, scc_out1_budget2 = tr.calculateSCC(fraction, numOfTriangles, numOfTrials, transmissionRate, initialRecoveryRate, budget1, budget2)\n",
    "\n",
    "print(\"Budget: 100\")\n",
    "print(\"SCC IN: \" + str(scc_in_budget1))\n",
    "print(\"SCC: \" + str(max_scc1_budget1))\n",
    "print(\"SCC OUT: \" + str(scc_out1_budget1))\n",
    "print(\"Budget: 150\")\n",
    "print(\"SCC IN: \" + str(scc_in_budget2))\n",
    "print(\"SCC: \" + str(max_scc1_budget2))\n",
    "print(\"SCC OUT: \" + str(scc_out1_budget2))"
   ],
   "outputs": [
    {
     "output_type": "stream",
     "name": "stdout",
     "text": [
      "Budget: 100\n",
      "SCC IN: nan\n",
      "SCC: 148.8255033557047\n",
      "SCC OUT: 250.0\n",
      "Budget: 150\n",
      "SCC IN: nan\n",
      "SCC: 148.8255033557047\n",
      "SCC OUT: 250.0\n"
     ]
    }
   ],
   "metadata": {}
  }
 ],
 "metadata": {
  "orig_nbformat": 4,
  "language_info": {
   "name": "python",
   "version": "3.8.1",
   "mimetype": "text/x-python",
   "codemirror_mode": {
    "name": "ipython",
    "version": 3
   },
   "pygments_lexer": "ipython3",
   "nbconvert_exporter": "python",
   "file_extension": ".py"
  },
  "kernelspec": {
   "name": "python3",
   "display_name": "Python 3.8.1 64-bit"
  },
  "interpreter": {
   "hash": "aee8b7b246df8f9039afb4144a1f6fd8d2ca17a180786b69acc140d282b71a49"
  }
 },
 "nbformat": 4,
 "nbformat_minor": 2
}