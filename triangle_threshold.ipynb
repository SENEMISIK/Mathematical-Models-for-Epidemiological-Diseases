{
 "cells": [
  {
   "cell_type": "code",
   "execution_count": 1,
   "source": [
    "import nested_triangle as tr\n",
    "import matplotlib.pyplot as plt \n",
    "\n",
    "fraction = 0.75\n",
    "numOfTriangles = 100\n",
    "numOfTrials = 50\n",
    "transmissionRate = 0.7\n",
    "initialRecoveryRate = 0.01\n",
    "budget1 = 25\n",
    "budget2 = 300\n",
    "\n",
    "# inf1, inf2 = tr.calculateSCC(fraction, numOfTriangles, numOfTrials, transmissionRate, initialRecoveryRate, budget1, budget2)\n",
    "\n",
    "# print(inf1)\n",
    "# print(inf2)\n",
    "inf1, inf2, scc_in_budget1, max_scc1_budget1, scc_out1_budget1, scc_in_budget2, max_scc1_budget2, scc_out1_budget2 = tr.calculateSCC(fraction, numOfTriangles, numOfTrials, transmissionRate, initialRecoveryRate, budget1, budget2)\n",
    "\n",
    "print(\"Budget: 25\")\n",
    "print(\"Infection Size: \" + str(inf1))\n",
    "print(\"SCC IN: \" + str(scc_in_budget1))\n",
    "print(\"SCC: \" + str(max_scc1_budget1))\n",
    "print(\"SCC OUT: \" + str(scc_out1_budget1))\n",
    "print(\" \")\n",
    "print(\"Budget: 300\")\n",
    "print(\"Infection Size: \" + str(inf2))\n",
    "print(\"SCC IN: \" + str(scc_in_budget2))\n",
    "print(\"SCC: \" + str(max_scc1_budget2))\n",
    "print(\"SCC OUT: \" + str(scc_out1_budget2))"
   ],
   "outputs": [
    {
     "output_type": "error",
     "ename": "TypeError",
     "evalue": "calculateSCC() missing 2 required positional arguments: 'max_scc_budget' and 'scc_out_budget'",
     "traceback": [
      "\u001b[0;31m---------------------------------------------------------------------------\u001b[0m",
      "\u001b[0;31mTypeError\u001b[0m                                 Traceback (most recent call last)",
      "\u001b[0;32m<ipython-input-1-e09a8a6b7aae>\u001b[0m in \u001b[0;36m<module>\u001b[0;34m\u001b[0m\n\u001b[1;32m     14\u001b[0m \u001b[0;31m# print(inf1)\u001b[0m\u001b[0;34m\u001b[0m\u001b[0;34m\u001b[0m\u001b[0;34m\u001b[0m\u001b[0m\n\u001b[1;32m     15\u001b[0m \u001b[0;31m# print(inf2)\u001b[0m\u001b[0;34m\u001b[0m\u001b[0;34m\u001b[0m\u001b[0;34m\u001b[0m\u001b[0m\n\u001b[0;32m---> 16\u001b[0;31m \u001b[0minf1\u001b[0m\u001b[0;34m,\u001b[0m \u001b[0minf2\u001b[0m\u001b[0;34m,\u001b[0m \u001b[0mscc_in_budget1\u001b[0m\u001b[0;34m,\u001b[0m \u001b[0mmax_scc1_budget1\u001b[0m\u001b[0;34m,\u001b[0m \u001b[0mscc_out1_budget1\u001b[0m\u001b[0;34m,\u001b[0m \u001b[0mscc_in_budget2\u001b[0m\u001b[0;34m,\u001b[0m \u001b[0mmax_scc1_budget2\u001b[0m\u001b[0;34m,\u001b[0m \u001b[0mscc_out1_budget2\u001b[0m \u001b[0;34m=\u001b[0m \u001b[0mtr\u001b[0m\u001b[0;34m.\u001b[0m\u001b[0mcalculateSCC\u001b[0m\u001b[0;34m(\u001b[0m\u001b[0mfraction\u001b[0m\u001b[0;34m,\u001b[0m \u001b[0mnumOfTriangles\u001b[0m\u001b[0;34m,\u001b[0m \u001b[0mnumOfTrials\u001b[0m\u001b[0;34m,\u001b[0m \u001b[0mtransmissionRate\u001b[0m\u001b[0;34m,\u001b[0m \u001b[0minitialRecoveryRate\u001b[0m\u001b[0;34m,\u001b[0m \u001b[0mbudget1\u001b[0m\u001b[0;34m,\u001b[0m \u001b[0mbudget2\u001b[0m\u001b[0;34m)\u001b[0m\u001b[0;34m\u001b[0m\u001b[0;34m\u001b[0m\u001b[0m\n\u001b[0m\u001b[1;32m     17\u001b[0m \u001b[0;34m\u001b[0m\u001b[0m\n\u001b[1;32m     18\u001b[0m \u001b[0mprint\u001b[0m\u001b[0;34m(\u001b[0m\u001b[0;34m\"Budget: 25\"\u001b[0m\u001b[0;34m)\u001b[0m\u001b[0;34m\u001b[0m\u001b[0;34m\u001b[0m\u001b[0m\n",
      "\u001b[0;31mTypeError\u001b[0m: calculateSCC() missing 2 required positional arguments: 'max_scc_budget' and 'scc_out_budget'"
     ]
    }
   ],
   "metadata": {}
  },
  {
   "cell_type": "code",
   "execution_count": 1,
   "source": [
    "import nested_triangle as tr\n",
    "import matplotlib.pyplot as plt \n",
    "import numpy as np\n",
    "import random\n",
    "\n",
    "\n",
    "numOfTriangles = 200\n",
    "fraction = 0.75\n",
    "initialRecoveryRate = 0.01\n",
    "budgets = [50, 100, 150, 200, 250, 300, 350, 400, 450, 500]\n",
    "transmissionRate = 0.7\n",
    "numOfTrails = 20\n",
    "\n",
    "# numInfected = []\n",
    "# sccInBudget = [] \n",
    "# MaxSccBudget = []\n",
    "# SccOutBudget = []\n",
    "\n",
    "graph = tr.triangle(numOfTriangles)\n",
    "neighbors_per_node = tr.tuples_to_dict(graph, numOfTriangles*3)\n",
    "recovery_rates = tr.strategyFraction(fraction, initialRecoveryRate, numOfTriangles, budgets[0])\n",
    "\n",
    "num_infected = []\n",
    "scc_in_budget = [] \n",
    "max_scc_budget = []\n",
    "scc_out_budget = []\n",
    "\n",
    "source = random.sample([i for i in range(0, numOfTriangles*3)], 30)\n",
    "\n",
    "print(budgets[0])\n",
    "node_rec_times, edge_transmit_times = tr.calculateSCC(source, neighbors_per_node, recovery_rates, numOfTriangles, transmissionRate, num_infected, scc_in_budget, max_scc_budget, scc_out_budget)\n",
    "\n",
    "for x in range(1, len(budgets)):\n",
    "  print(budgets[x])\n",
    "  tr.newRecoveries(initialRecoveryRate, numOfTriangles, recovery_rates, node_rec_times, budgets[x], budgets[x-1])\n",
    "  tr.calculaateSCC2(source, numOfTriangles, neighbors_per_node, node_rec_times, edge_transmit_times, num_infected, scc_in_budget, max_scc_budget, scc_out_budget)\n",
    "\n",
    "# numInfected.append(num_infected)\n",
    "  # sccInBudget.append(scc_in_budget)\n",
    "  # MaxSccBudget.append(max_scc_budget)\n",
    "  # SccOutBudget.append(scc_out_budget)\n",
    "\n",
    "plt.plot(budgets, num_infected , label=\"Infection Size\")\n",
    "plt.plot(budgets, scc_in_budget, label=\"SCC In\")\n",
    "plt.plot(budgets, max_scc_budget, label=\"Max SCC\")\n",
    "plt.plot(budgets, scc_out_budget, label=\"SCC Out\")\n",
    "plt.legend()\n",
    "plt.xlabel('Budget (distributed to 75%)')\n",
    "plt.ylabel('Number of Nodes')\n",
    "plt.title('Infection Size vs SCC Size for 3-Configuration Model with 200 Triangles')"
   ],
   "outputs": [],
   "metadata": {}
  },
  {
   "cell_type": "code",
   "execution_count": null,
   "source": [],
   "outputs": [],
   "metadata": {}
  }
 ],
 "metadata": {
  "orig_nbformat": 4,
  "language_info": {
   "name": "python",
   "version": "3.8.1",
   "mimetype": "text/x-python",
   "codemirror_mode": {
    "name": "ipython",
    "version": 3
   },
   "pygments_lexer": "ipython3",
   "nbconvert_exporter": "python",
   "file_extension": ".py"
  },
  "kernelspec": {
   "name": "python3",
   "display_name": "Python 3.8.1 64-bit"
  },
  "interpreter": {
   "hash": "aee8b7b246df8f9039afb4144a1f6fd8d2ca17a180786b69acc140d282b71a49"
  }
 },
 "nbformat": 4,
 "nbformat_minor": 2
}