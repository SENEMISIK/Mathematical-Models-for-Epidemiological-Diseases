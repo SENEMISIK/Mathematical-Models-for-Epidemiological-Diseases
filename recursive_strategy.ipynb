{
 "cells": [
  {
   "cell_type": "code",
   "execution_count": 1,
   "source": [
    "import recursive_strategy as rs\n",
    "import graphs\n",
    "import numpy as np\n",
    "import matplotlib.pyplot as plt \n",
    "\n",
    "InfectedNodes = 1\n",
    "N = 100\n",
    "M = 400\n",
    "numTrials = 20\n",
    "transmissionRate = 0.5\n",
    "initial_rec = 0.01\n",
    "budgets = np.arange(100, 800, 50)\n",
    "gap_threshold = 2 \n",
    "boundary_threshold = 3.5\n",
    "\n",
    "graph = graphs.erdos_renyi_graph(N, M)\n",
    "\n",
    "Y1 = []\n",
    "Y2 = []\n",
    "\n",
    "for budget in budgets:\n",
    "    Y1.append(rs.calculateRecInfection(InfectedNodes, graph, N, numTrials, transmissionRate, initial_rec, budget, gap_threshold, boundary_threshold))\n",
    "    Y2.append(rs.calculateDegreeInfection(InfectedNodes, graph, N, numTrials, transmissionRate, initial_rec, budget))\n",
    "\n",
    "plt.plot(budgets, Y1, label=\"Recursive Strategy\")\n",
    "plt.plot(budgets, Y2, label=\"Degree Proportional Strategy\")\n",
    "plt.legend()\n",
    "plt.xlabel('Budget')\n",
    "plt.ylabel('Infection Size')"
   ],
   "outputs": [
    {
     "output_type": "error",
     "ename": "TypeError",
     "evalue": "min_cut_antidotes() missing 1 required positional argument: 'boundaryThreshold'",
     "traceback": [
      "\u001b[0;31m---------------------------------------------------------------------------\u001b[0m",
      "\u001b[0;31mTypeError\u001b[0m                                 Traceback (most recent call last)",
      "\u001b[0;32m<ipython-input-1-4bdf5afb9fef>\u001b[0m in \u001b[0;36m<module>\u001b[0;34m\u001b[0m\n\u001b[1;32m     20\u001b[0m \u001b[0;34m\u001b[0m\u001b[0m\n\u001b[1;32m     21\u001b[0m \u001b[0;32mfor\u001b[0m \u001b[0mbudget\u001b[0m \u001b[0;32min\u001b[0m \u001b[0mbudgets\u001b[0m\u001b[0;34m:\u001b[0m\u001b[0;34m\u001b[0m\u001b[0;34m\u001b[0m\u001b[0m\n\u001b[0;32m---> 22\u001b[0;31m     \u001b[0mY1\u001b[0m\u001b[0;34m.\u001b[0m\u001b[0mappend\u001b[0m\u001b[0;34m(\u001b[0m\u001b[0mrs\u001b[0m\u001b[0;34m.\u001b[0m\u001b[0mcalculateRecInfection\u001b[0m\u001b[0;34m(\u001b[0m\u001b[0mInfectedNodes\u001b[0m\u001b[0;34m,\u001b[0m \u001b[0mgraph\u001b[0m\u001b[0;34m,\u001b[0m \u001b[0mN\u001b[0m\u001b[0;34m,\u001b[0m \u001b[0mnumTrials\u001b[0m\u001b[0;34m,\u001b[0m \u001b[0mtransmissionRate\u001b[0m\u001b[0;34m,\u001b[0m \u001b[0minitial_rec\u001b[0m\u001b[0;34m,\u001b[0m \u001b[0mbudget\u001b[0m\u001b[0;34m,\u001b[0m \u001b[0mgap_threshold\u001b[0m\u001b[0;34m,\u001b[0m \u001b[0mboundary_threshold\u001b[0m\u001b[0;34m)\u001b[0m\u001b[0;34m)\u001b[0m\u001b[0;34m\u001b[0m\u001b[0;34m\u001b[0m\u001b[0m\n\u001b[0m\u001b[1;32m     23\u001b[0m     \u001b[0mY2\u001b[0m\u001b[0;34m.\u001b[0m\u001b[0mappend\u001b[0m\u001b[0;34m(\u001b[0m\u001b[0mrs\u001b[0m\u001b[0;34m.\u001b[0m\u001b[0mcalculateDegreeInfection\u001b[0m\u001b[0;34m(\u001b[0m\u001b[0mInfectedNodes\u001b[0m\u001b[0;34m,\u001b[0m \u001b[0mgraph\u001b[0m\u001b[0;34m,\u001b[0m \u001b[0mN\u001b[0m\u001b[0;34m,\u001b[0m \u001b[0mnumTrials\u001b[0m\u001b[0;34m,\u001b[0m \u001b[0mtransmissionRate\u001b[0m\u001b[0;34m,\u001b[0m \u001b[0minitial_rec\u001b[0m\u001b[0;34m,\u001b[0m \u001b[0mbudget\u001b[0m\u001b[0;34m)\u001b[0m\u001b[0;34m)\u001b[0m\u001b[0;34m\u001b[0m\u001b[0;34m\u001b[0m\u001b[0m\n\u001b[1;32m     24\u001b[0m \u001b[0;34m\u001b[0m\u001b[0m\n",
      "\u001b[0;32m~/Documents/GitHub/CURIS2021/recursive_strategy.py\u001b[0m in \u001b[0;36mcalculateRecInfection\u001b[0;34m(InfectedNodes, graph, N, numTrials, transmissionRate, initial_rec, budget, gap_threshold, boundary_threshold)\u001b[0m\n\u001b[1;32m    264\u001b[0m         \u001b[0mrecovery_rates\u001b[0m\u001b[0;34m[\u001b[0m\u001b[0mi\u001b[0m\u001b[0;34m]\u001b[0m \u001b[0;34m=\u001b[0m \u001b[0minitial_rec\u001b[0m\u001b[0;34m\u001b[0m\u001b[0;34m\u001b[0m\u001b[0m\n\u001b[1;32m    265\u001b[0m     \u001b[0mnode_list\u001b[0m \u001b[0;34m=\u001b[0m \u001b[0mnp\u001b[0m\u001b[0;34m.\u001b[0m\u001b[0marange\u001b[0m\u001b[0;34m(\u001b[0m\u001b[0mN\u001b[0m\u001b[0;34m)\u001b[0m\u001b[0;34m\u001b[0m\u001b[0;34m\u001b[0m\u001b[0m\n\u001b[0;32m--> 266\u001b[0;31m     \u001b[0mrecoveryRates\u001b[0m \u001b[0;34m=\u001b[0m \u001b[0mnewStrategy\u001b[0m\u001b[0;34m(\u001b[0m\u001b[0mgraph_dict\u001b[0m\u001b[0;34m,\u001b[0m \u001b[0mrecovery_rates\u001b[0m\u001b[0;34m,\u001b[0m \u001b[0mbudget\u001b[0m\u001b[0;34m,\u001b[0m \u001b[0mgap_threshold\u001b[0m\u001b[0;34m,\u001b[0m \u001b[0mboundary_threshold\u001b[0m\u001b[0;34m,\u001b[0m \u001b[0mnode_list\u001b[0m\u001b[0;34m)\u001b[0m\u001b[0;34m\u001b[0m\u001b[0;34m\u001b[0m\u001b[0m\n\u001b[0m\u001b[1;32m    267\u001b[0m     \u001b[0mnew_graph\u001b[0m \u001b[0;34m=\u001b[0m \u001b[0mpercolation\u001b[0m\u001b[0;34m(\u001b[0m\u001b[0mgraph_dict\u001b[0m\u001b[0;34m,\u001b[0m \u001b[0mtransmissionRate\u001b[0m\u001b[0;34m,\u001b[0m \u001b[0mrecoveryRates\u001b[0m\u001b[0;34m)\u001b[0m\u001b[0;34m\u001b[0m\u001b[0;34m\u001b[0m\u001b[0m\n\u001b[1;32m    268\u001b[0m     \u001b[0mneighbors_per_node\u001b[0m \u001b[0;34m=\u001b[0m \u001b[0mtuples_to_dict\u001b[0m\u001b[0;34m(\u001b[0m\u001b[0mnew_graph\u001b[0m\u001b[0;34m,\u001b[0m \u001b[0mN\u001b[0m\u001b[0;34m)\u001b[0m\u001b[0;34m\u001b[0m\u001b[0;34m\u001b[0m\u001b[0m\n",
      "\u001b[0;32m~/Documents/GitHub/CURIS2021/recursive_strategy.py\u001b[0m in \u001b[0;36mnewStrategy\u001b[0;34m(graph_dict, recovery_rates, budget, gap_threshold, boundary_threshold, node_list)\u001b[0m\n\u001b[1;32m    210\u001b[0m     \u001b[0mnodes1\u001b[0m\u001b[0;34m,\u001b[0m \u001b[0mnodes2\u001b[0m \u001b[0;34m=\u001b[0m \u001b[0msparsest_cut\u001b[0m\u001b[0;34m(\u001b[0m\u001b[0mgraph_dict\u001b[0m\u001b[0;34m,\u001b[0m \u001b[0mnode_list\u001b[0m\u001b[0;34m)\u001b[0m\u001b[0;34m\u001b[0m\u001b[0;34m\u001b[0m\u001b[0m\n\u001b[1;32m    211\u001b[0m     \u001b[0mgraph_dict1\u001b[0m\u001b[0;34m,\u001b[0m \u001b[0mlen1\u001b[0m\u001b[0;34m,\u001b[0m \u001b[0mgraph_dict2\u001b[0m\u001b[0;34m,\u001b[0m \u001b[0mlen2\u001b[0m \u001b[0;34m=\u001b[0m \u001b[0mfindNewGraph\u001b[0m\u001b[0;34m(\u001b[0m\u001b[0mgraph_dict\u001b[0m\u001b[0;34m,\u001b[0m \u001b[0mnodes1\u001b[0m\u001b[0;34m,\u001b[0m \u001b[0mnodes2\u001b[0m\u001b[0;34m)\u001b[0m\u001b[0;34m\u001b[0m\u001b[0;34m\u001b[0m\u001b[0m\n\u001b[0;32m--> 212\u001b[0;31m     \u001b[0mmin_cut_antidotes\u001b[0m\u001b[0;34m(\u001b[0m\u001b[0mgraph_dict\u001b[0m\u001b[0;34m,\u001b[0m \u001b[0mnode_list\u001b[0m\u001b[0;34m,\u001b[0m \u001b[0mbudget\u001b[0m\u001b[0;34m,\u001b[0m \u001b[0mnodes1\u001b[0m\u001b[0;34m,\u001b[0m \u001b[0mnodes2\u001b[0m\u001b[0;34m,\u001b[0m \u001b[0mrecovery_rates\u001b[0m\u001b[0;34m,\u001b[0m \u001b[0mboundary_threshold\u001b[0m\u001b[0;34m)\u001b[0m\u001b[0;34m\u001b[0m\u001b[0;34m\u001b[0m\u001b[0m\n\u001b[0m\u001b[1;32m    213\u001b[0m     \u001b[0;32mif\u001b[0m \u001b[0;34m(\u001b[0m\u001b[0mbudget\u001b[0m \u001b[0;34m>\u001b[0m \u001b[0;36m0\u001b[0m\u001b[0;34m)\u001b[0m\u001b[0;34m:\u001b[0m\u001b[0;34m\u001b[0m\u001b[0;34m\u001b[0m\u001b[0m\n\u001b[1;32m    214\u001b[0m       \u001b[0mbudget1\u001b[0m \u001b[0;34m=\u001b[0m \u001b[0mbudget\u001b[0m \u001b[0;34m*\u001b[0m \u001b[0;34m(\u001b[0m\u001b[0mlen1\u001b[0m \u001b[0;34m/\u001b[0m \u001b[0;34m(\u001b[0m\u001b[0mlen1\u001b[0m \u001b[0;34m+\u001b[0m \u001b[0mlen2\u001b[0m\u001b[0;34m)\u001b[0m\u001b[0;34m)\u001b[0m\u001b[0;34m\u001b[0m\u001b[0;34m\u001b[0m\u001b[0m\n",
      "\u001b[0;31mTypeError\u001b[0m: min_cut_antidotes() missing 1 required positional argument: 'boundaryThreshold'"
     ]
    }
   ],
   "metadata": {}
  }
 ],
 "metadata": {
  "orig_nbformat": 4,
  "language_info": {
   "name": "python",
   "version": "3.8.1",
   "mimetype": "text/x-python",
   "codemirror_mode": {
    "name": "ipython",
    "version": 3
   },
   "pygments_lexer": "ipython3",
   "nbconvert_exporter": "python",
   "file_extension": ".py"
  },
  "kernelspec": {
   "name": "python3",
   "display_name": "Python 3.8.1 64-bit"
  },
  "interpreter": {
   "hash": "aee8b7b246df8f9039afb4144a1f6fd8d2ca17a180786b69acc140d282b71a49"
  }
 },
 "nbformat": 4,
 "nbformat_minor": 2
}